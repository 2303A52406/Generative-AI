{
  "nbformat": 4,
  "nbformat_minor": 0,
  "metadata": {
    "colab": {
      "provenance": [],
      "authorship_tag": "ABX9TyOrHafk5LIhDDn7cWnYcOZ/",
      "include_colab_link": true
    },
    "kernelspec": {
      "name": "python3",
      "display_name": "Python 3"
    },
    "language_info": {
      "name": "python"
    }
  },
  "cells": [
    {
      "cell_type": "markdown",
      "metadata": {
        "id": "view-in-github",
        "colab_type": "text"
      },
      "source": [
        "<a href=\"https://colab.research.google.com/github/2303A52406/Generative-AI/blob/main/2406_W3_A3.ipynb\" target=\"_parent\"><img src=\"https://colab.research.google.com/assets/colab-badge.svg\" alt=\"Open In Colab\"/></a>"
      ]
    },
    {
      "cell_type": "code",
      "execution_count": 2,
      "metadata": {
        "colab": {
          "base_uri": "https://localhost:8080/"
        },
        "id": "5zgUVuRUKrUQ",
        "outputId": "02c507da-bdff-4229-f1ed-b671b748f646"
      },
      "outputs": [
        {
          "output_type": "stream",
          "name": "stdout",
          "text": [
            "Minimum value of x for f(x): 0.0\n"
          ]
        }
      ],
      "source": [
        "def gradient_descent(f_prime, x0, learning_rate=0.1, tolerance=1e-6, max_iter=1000):\n",
        "      x = x0\n",
        "      for i in range(max_iter):\n",
        "          grad = f_prime(x)\n",
        "          new_x = x - learning_rate * grad\n",
        "          if abs(new_x - x) < tolerance:\n",
        "              break\n",
        "          x = new_x\n",
        "      return x\n",
        "# Derivative of f(x) = 5x^4 + 3x^2 + 10\n",
        "def f_prime(x):\n",
        "    return 20 * x**3 + 6 * x\n",
        "\n",
        "# Initial guess\n",
        "x0 = 0.0\n",
        "min_x = gradient_descent(f_prime, x0)\n",
        "print(f\"Minimum value of x for f(x): {min_x}\")\n",
        "\n"
      ]
    },
    {
      "cell_type": "code",
      "source": [
        "def gradient_descent_multi(f_prime_x, f_prime_y, x0, y0, learning_rate=0.1, tolerance=1e-6, max_iter=1000):\n",
        "      x, y = x0, y0\n",
        "      for i in range(max_iter):\n",
        "          grad_x = f_prime_x(x)\n",
        "          grad_y = f_prime_y(y)\n",
        "          new_x = x - learning_rate * grad_x\n",
        "          new_y = y - learning_rate * grad_y\n",
        "          if abs(new_x - x) < tolerance and abs(new_y - y) < tolerance:\n",
        "              break\n",
        "          x, y = new_x, new_y\n",
        "      return x, y\n",
        "\n",
        "# Derivatives of g(x, y) = 3x^2 + 5e^(-y) + 10\n",
        "def f_prime_x(x):\n",
        "    return 6 * x\n",
        "\n",
        "def f_prime_y(y):\n",
        "      return -5 * (2.71828 ** (-y))\n",
        "\n",
        "# Initial guess\n",
        "x0, y0 = 0.0, 0.0\n",
        "min_x, min_y = gradient_descent_multi(f_prime_x, f_prime_y, x0, y0)\n",
        "print(f\"Minimum value of x and y for g(x, y): {min_x}, {min_y}\")\n",
        "\n",
        "\n"
      ],
      "metadata": {
        "colab": {
          "base_uri": "https://localhost:8080/"
        },
        "id": "9AZNsVHiLUgd",
        "outputId": "b13a3afa-884c-49e6-a1a2-5d2b2962ccab"
      },
      "execution_count": 4,
      "outputs": [
        {
          "output_type": "stream",
          "name": "stdout",
          "text": [
            "Minimum value of x and y for g(x, y): 0.0, 6.219812716114375\n"
          ]
        }
      ]
    },
    {
      "cell_type": "code",
      "source": [
        "def gradient_descent_linear(f_prime_m, f_prime_c, m0, c0, learning_rate=0.1, tolerance=1e-6, max_iter=1000):\n",
        "      m, c = m0, c0\n",
        "      for i in range(max_iter):\n",
        "          grad_m = f_prime_m(m, c)\n",
        "          grad_c = f_prime_c(m, c)\n",
        "          new_m = m - learning_rate * grad_m\n",
        "          new_c = c - learning_rate * grad_c\n",
        "          if abs(new_m - m) < tolerance and abs(new_c - c) < tolerance:\n",
        "              break\n",
        "          m, c = new_m, new_c\n",
        "      return m, c\n",
        "\n",
        "\n",
        "# Derivatives of SE = (ExpectedOutput - (Mx + C))^2\n",
        "# Assuming simple linear regression y = Mx + C, and we have some data points (x, y)\n",
        "\n",
        "def f_prime_m(m, c):\n",
        "    # Example with a single data point (x, y) = (1, 2)\n",
        "    x, y = 1, 2\n",
        "    return -2 * x * (y - (m * x + c))\n",
        "\n",
        "def f_prime_c(m, c):\n",
        "      x, y = 1, 2\n",
        "      return -2 * (y - (m * x + c))\n",
        "\n",
        "# Initial guess\n",
        "m0, c0 = 0.0, 0.0\n",
        "min_m, min_c = gradient_descent_linear(f_prime_m, f_prime_c, m0, c0)\n",
        "print(f\"Optimal values of M and C: {min_m}, {min_c}\")\n",
        "\n"
      ],
      "metadata": {
        "colab": {
          "base_uri": "https://localhost:8080/"
        },
        "id": "Z_lhmZoXL-FM",
        "outputId": "d101291d-f0cc-4838-a84a-9ecf0ee503c6"
      },
      "execution_count": 5,
      "outputs": [
        {
          "output_type": "stream",
          "name": "stdout",
          "text": [
            "Optimal values of M and C: 0.9999982941827182, 0.9999982941827182\n"
          ]
        }
      ]
    }
  ]
}