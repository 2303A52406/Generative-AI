{
  "nbformat": 4,
  "nbformat_minor": 0,
  "metadata": {
    "colab": {
      "provenance": [],
      "authorship_tag": "ABX9TyO/ghMEHt/NdBlGKJoSNFCu",
      "include_colab_link": true
    },
    "kernelspec": {
      "name": "python3",
      "display_name": "Python 3"
    },
    "language_info": {
      "name": "python"
    }
  },
  "cells": [
    {
      "cell_type": "markdown",
      "metadata": {
        "id": "view-in-github",
        "colab_type": "text"
      },
      "source": [
        "<a href=\"https://colab.research.google.com/github/2303A52406/Generative-AI/blob/main/2406_W1_A1.ipynb\" target=\"_parent\"><img src=\"https://colab.research.google.com/assets/colab-badge.svg\" alt=\"Open In Colab\"/></a>"
      ]
    },
    {
      "cell_type": "code",
      "execution_count": 1,
      "metadata": {
        "colab": {
          "base_uri": "https://localhost:8080/"
        },
        "id": "7ts6yb4f-xi_",
        "outputId": "356f7eed-63e8-4875-ddb2-840faa793ecd"
      },
      "outputs": [
        {
          "output_type": "stream",
          "name": "stdout",
          "text": [
            "Error Metrics Calculated From Scratch:\n",
            "Mean Absolute Error (MAE): 0.4600000000000016\n",
            "Mean Squared Error (MSE): 0.24600000000000147\n",
            "Root Mean Squared Error (RMSE): 0.49598387070549127\n",
            "\n",
            "Error Metrics Calculated Using Libraries:\n",
            "Mean Absolute Error (MAE): 0.4600000000000016\n",
            "Mean Squared Error (MSE): 0.24600000000000147\n",
            "Root Mean Squared Error (RMSE): 0.49598387070549127\n"
          ]
        }
      ],
      "source": [
        "import numpy as np\n",
        "from sklearn.metrics import mean_absolute_error, mean_squared_error\n",
        "\n",
        "# Table 1: YActual vs. YPred\n",
        "Y_actual = [20, 30, 40, 50, 60]\n",
        "Y_pred = [20.5, 30.3, 40.2, 50.6, 60.7]\n",
        "# Function to calculate error metrics from scratch\n",
        "def calculate_metrics_from_scratch(y_actual, y_pred):\n",
        "    n = len(y_actual)\n",
        "    absolute_errors = [abs(y_a - y_p) for y_a, y_p in zip(y_actual, y_pred)]\n",
        "    squared_errors = [(y_a - y_p) ** 2 for y_a, y_p in zip(y_actual, y_pred)]\n",
        "\n",
        "    mae = sum(absolute_errors) / n\n",
        "    mse = sum(squared_errors) / n\n",
        "    rmse = mse ** 0.5\n",
        "\n",
        "    return mae, mse, rmse\n",
        "\n",
        "# Calculate metrics from scratch\n",
        "mae_scratch, mse_scratch, rmse_scratch = calculate_metrics_from_scratch(Y_actual, Y_pred)\n",
        "\n",
        "# Calculate metrics using libraries\n",
        "mae_lib = mean_absolute_error(Y_actual, Y_pred)\n",
        "mse_lib = mean_squared_error(Y_actual, Y_pred)\n",
        "\n",
        "# Calculate RMSE by taking the square root of MSE\n",
        "rmse_lib = np.sqrt(mse_lib)  # Calculate RMSE using NumPy\n",
        "# Display results\n",
        "print(\"Error Metrics Calculated From Scratch:\")\n",
        "print(f\"Mean Absolute Error (MAE): {mae_scratch}\")\n",
        "print(f\"Mean Squared Error (MSE): {mse_scratch}\")\n",
        "print(f\"Root Mean Squared Error (RMSE): {rmse_scratch}\")\n",
        "\n",
        "print(\"\\nError Metrics Calculated Using Libraries:\")\n",
        "print(f\"Mean Absolute Error (MAE): {mae_lib}\")\n",
        "print(f\"Mean Squared Error (MSE): {mse_lib}\")\n",
        "print(f\"Root Mean Squared Error (RMSE): {rmse_lib}\")\n",
        ""
      ]
    },
    {
      "cell_type": "code",
      "source": [
        "import numpy as np\n",
        "from sklearn.metrics import accuracy_score, confusion_matrix\n",
        "y_a = [0, 0, 1, 1, 2, 0, 0, 1, 0, 2, 0, 1, 1, 2, 2, 1, 0, 2, 1, 2, 2, 2]\n",
        "y_p = [0, 0, 1, 0, 2, 0, 0, 1, 2, 2, 0, 1, 1, 2, 2, 1, 0, 2, 1, 0, 2, 2]\n",
        "def calc_acc(y_a, y_p):\n",
        "    c = sum([1 for a, p in zip(y_a, y_p) if a == p])\n",
        "    return c / len(y_a)\n",
        "\n",
        "def calc_cm(y_a, y_p, n_c):\n",
        "      m = np.zeros((n_c, n_c), dtype=int)\n",
        "      for a, p in zip(y_a, y_p):\n",
        "               m[a][p] += 1\n",
        "      return m\n",
        "\n",
        "n_c = len(set(y_a))\n",
        "acc = calc_acc(y_a, y_p)\n",
        "cm = calc_cm(y_a, y_p, n_c)\n",
        "lib_acc = accuracy_score(y_a, y_p)\n",
        "lib_cm = confusion_matrix(y_a, y_p)\n",
        "print(\"Accuracy (from scratch):\", acc)\n",
        "print(\"Confusion Matrix (from scratch):\\n\", cm)\n",
        "print(\"\\nUsing Libraries:\")\n",
        "print(\"Accuracy (library):\", lib_acc)\n",
        "print(\"Confusion Matrix (library):\\n\", lib_cm)\n",
        ""
      ],
      "metadata": {
        "colab": {
          "base_uri": "https://localhost:8080/"
        },
        "id": "9zXxVcz6_eBc",
        "outputId": "12e4867c-7cb4-47ff-e2af-2975a7867bbd"
      },
      "execution_count": 3,
      "outputs": [
        {
          "output_type": "stream",
          "name": "stdout",
          "text": [
            "Accuracy (from scratch): 0.8636363636363636\n",
            "Confusion Matrix (from scratch):\n",
            " [[6 0 1]\n",
            " [1 6 0]\n",
            " [1 0 7]]\n",
            "\n",
            "Using Libraries:\n",
            "Accuracy (library): 0.8636363636363636\n",
            "Confusion Matrix (library):\n",
            " [[6 0 1]\n",
            " [1 6 0]\n",
            " [1 0 7]]\n"
          ]
        }
      ]
    }
  ]
}